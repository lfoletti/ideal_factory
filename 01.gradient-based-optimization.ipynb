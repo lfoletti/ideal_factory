{
 "cells": [
  {
   "cell_type": "markdown",
   "id": "501ee919",
   "metadata": {},
   "source": [
    "# Facility Layout Problem\n",
    "1) Model is trained <b>without input</b>: parameters only ;\n",
    "2) Randn parameters initialization with <b>Boltzmann distribution</b> with <b>high temperature</b> (almost uniform distribution) ;\n",
    "3) <b>Simulated Annealing</b> : worse loss solutions are sometimes accepted, according to temperature ;\n",
    "4) <b>Noise addition</b> (partial, random parameter choice, decreasing with temperature) ;\n",
    "5) <b>Custom Loss</b> function (Layout @ Layout.T @ Distances) ;\n",
    "6) RMSprop optimizer."
   ]
  },
  {
   "cell_type": "code",
   "execution_count": 188,
   "id": "c43b2861",
   "metadata": {},
   "outputs": [],
   "source": [
    "########## Load libraries\n",
    "\n",
    "import torch\n",
    "import torch.nn as nn\n",
    "import torch.optim as optim\n",
    "import numpy as np\n",
    "import matplotlib.pyplot as plt\n",
    "import random\n",
    "\n",
    "from functions.dataset import *\n",
    "import importlib, sys"
   ]
  },
  {
   "cell_type": "code",
   "execution_count": null,
   "id": "798a92e3",
   "metadata": {},
   "outputs": [],
   "source": [
    "#importlib.reload(sys.modules['functions.dataset'])\n",
    "#from functions.dataset import *"
   ]
  },
  {
   "cell_type": "markdown",
   "id": "7f05c304",
   "metadata": {},
   "source": [
    "### Perfect square layout"
   ]
  },
  {
   "cell_type": "code",
   "execution_count": 189,
   "id": "98bcd1c3",
   "metadata": {},
   "outputs": [
    {
     "name": "stdout",
     "output_type": "stream",
     "text": [
      "[[  7  45 103  98  22   3   1  18  28  53 136  17]\n",
      " [141 102 124  88 116  97  93  73  37 142 108  79]\n",
      " [ 96  54  52 113  80   2  60  74  16  32 140  83]\n",
      " [143  40  59  35  69  43 115  86 126 137  36   8]\n",
      " [ 12 101  66  61  81   4 132 129  70 120  10  51]\n",
      " [ 64  31 119  58 107  38   0  57  11 105 118  24]\n",
      " [122 135  48  77  89  78 123  63 110 125 134   9]\n",
      " [ 94 121 111  56  62  65  21  26 100  13  75  49]\n",
      " [ 82 128 130  46  25  55  44 109  87 139  76  19]\n",
      " [ 85  91  95 106  90 133  47  30  42  20  33 114]\n",
      " [ 99  39 104   6  92 127 138  14  34  27  72  71]\n",
      " [  5  84  15  50  41  23 112  68  29 117  67 131]]\n",
      "Name    : Perfectly homogenous data\n",
      "Groups  : 100\n",
      "Edges   : 1386\n",
      "Nodes   : 144\n",
      "\n"
     ]
    },
    {
     "data": {
      "image/png": "[encoded data removed]",
      "text/plain": [
       "<Figure size 400x400 with 1 Axes>"
      ]
     },
     "metadata": {},
     "output_type": "display_data"
    }
   ],
   "source": [
    "########## Define problem data\n",
    "#.         M = optimal layout (hidden)\n",
    "#.         natural_order = list(range(len(M)))\n",
    "#.         AM = Adjacency matrix (Facility x Facility, shape M x M)\n",
    "#.         D = Distances between locations (Location x Location, shape M x M)\n",
    "\n",
    "N = 12\n",
    "M = np.arange(N**2)\n",
    "np.random.shuffle(M)\n",
    "M = M.reshape((N,N))\n",
    "print (M)\n",
    "\n",
    "kernel = 3\n",
    "groups = [M[i:i+kernel,ii:ii+kernel].ravel().tolist() \n",
    "            for i in range(M.shape[0]-kernel+1)\n",
    "            for ii in range(M.shape[1]-kernel+1)]\n",
    "\n",
    "random.shuffle(groups)\n",
    "\n",
    "DS = DataSet(\"Perfectly homogenous data\", groups)\n",
    "print (DS)\n",
    "\n",
    "natural_order = list(range(N**2))\n",
    "DS.makeGraph(\"natural\", natural_order)\n",
    "\n",
    "spectral = nx.spectral_layout(DS.graphs['natural'].G, dim=1)\n",
    "pos = [(k,v[0]) for k,v in spectral.items()]\n",
    "pos_sorted = sorted(pos, key=lambda x : x[1])\n",
    "spectral_order = [a[0] for a in pos_sorted]\n",
    "\n",
    "kamada = nx.kamada_kawai_layout(DS.graphs['natural'].G, dim=1)\n",
    "pos = [(k,v[0]) for k,v in kamada.items()]\n",
    "pos_sorted = sorted(pos, key=lambda x : x[1])\n",
    "kamada_order = [a[0] for a in pos_sorted]\n",
    "\n",
    "order = natural_order\n",
    "\n",
    "AM = DS.getAM(order)\n",
    "_ = draw_adjacency_matrix(AM, title=f'Input adjacency matrix')\n",
    "\n",
    "coords = np.argwhere(M>=0)[order]\n",
    "D = np.zeros((N**2,N**2)).astype(float)\n",
    "for i in range(N**2):\n",
    "    dx = coords[i,0] - coords[:,0]\n",
    "    dy = coords[i,1] - coords[:,1]\n",
    "    D[i] = np.sqrt((dx**2) + (dy**2))\n"
   ]
  },
  {
   "cell_type": "raw",
   "id": "af846c5f",
   "metadata": {},
   "source": [
    "Prior Spectral or Kamada-Kawai permutations seem to make it worse than random input."
   ]
  },
  {
   "cell_type": "code",
   "execution_count": 190,
   "id": "d1907c0b",
   "metadata": {},
   "outputs": [],
   "source": [
    "########## Model definition, initialization\n",
    "\n",
    "adjacency_matrix = torch.tensor(AM, dtype=torch.float32) # Adjacency matrix (interaction weights)\n",
    "distance_matrix = torch.tensor(D, dtype=torch.float32) # Distance matrix (Euclidean distances between locations)\n",
    "L = adjacency_matrix.shape[0] # Number of facilities and locations\n",
    "\n",
    "class FacilityLayoutNet(nn.Module):\n",
    "    def __init__(self, num_facilities, num_locations):\n",
    "        super(FacilityLayoutNet, self).__init__()\n",
    "        self.num_facilities = num_facilities\n",
    "        self.num_locations = num_locations\n",
    "        \n",
    "        initials = torch.rand((num_facilities, num_facilities), dtype=torch.float32)\n",
    "        initials = self.boltzmann_probability(initials, 20000)\n",
    "        self.logits = nn.Parameter(initials)\n",
    "        \n",
    "    def boltzmann_probability(self, E, T):\n",
    "        exp_neg_E = torch.exp(-E / T)\n",
    "        partition_function = torch.sum(exp_neg_E)\n",
    "        V = exp_neg_E / partition_function\n",
    "        return V\n",
    "\n",
    "    def forward(self):\n",
    "        probabilities = torch.softmax(self.logits, dim=1)\n",
    "        return probabilities\n",
    "\n",
    "def facility_layout_loss(probabilities, adjacency_matrix, distance_matrix):\n",
    "    \n",
    "    expected_distances = probabilities @ distance_matrix @ probabilities.T  # Shape: (N, N)\n",
    "    loss = torch.sum(adjacency_matrix * expected_distances)\n",
    "    overlap_penalty = torch.sum(probabilities.sum(dim=0) ** 2) - L  # Penalize multiple assignments to one location\n",
    "    loss += 100.0 * overlap_penalty  # Weight for overlap penalty\n",
    "    return loss\n",
    "\n",
    "# Initialize the model\n",
    "model = FacilityLayoutNet(L, L)\n",
    "optimizer = optim.RMSprop(model.parameters(), lr=0.0001, alpha=0.99, momentum=0.9)"
   ]
  },
  {
   "cell_type": "code",
   "execution_count": 191,
   "id": "e491bfc1",
   "metadata": {},
   "outputs": [
    {
     "name": "stdout",
     "output_type": "stream",
     "text": [
      "Epoch 4000/40000, Loss: 7081.875, Best Loss: 7081.8750, T° 18000.50\n",
      "Epoch 8000/40000, Loss: 5292.919921875, Best Loss: 5292.9199, T° 16000.50\n",
      "Epoch 12000/40000, Loss: 5262.85791015625, Best Loss: 5262.8579, T° 14000.50\n",
      "Epoch 16000/40000, Loss: 5262.80078125, Best Loss: 5262.8008, T° 12000.50\n",
      "Epoch 20000/40000, Loss: 5262.80029296875, Best Loss: 5262.8003, T° 10000.50\n",
      "Epoch 24000/40000, Loss: 5262.8017578125, Best Loss: 5262.8018, T° 8000.51\n",
      "Epoch 28000/40000, Loss: 5262.7998046875, Best Loss: 5262.7998, T° 6000.51\n",
      "Epoch 32000/40000, Loss: 5262.80078125, Best Loss: 5262.8008, T° 4000.51\n",
      "Epoch 36000/40000, Loss: 5262.80029296875, Best Loss: 5262.8003, T° 2000.51\n",
      "Epoch 40000/40000, Loss: 5262.80029296875, Best Loss: 5262.8003, T° 0.51\n"
     ]
    },
    {
     "data": {
      "image/png": "[encoded data removed]",
      "text/plain": [
       "<Figure size 400x400 with 1 Axes>"
      ]
     },
     "metadata": {},
     "output_type": "display_data"
    },
    {
     "name": "stdout",
     "output_type": "stream",
     "text": [
      "\n",
      "[[  5  99  85  82  94 122  64  12 143  96 141   7]\n",
      " [ 84  39  91 128 121 135  31 101  40  54 102  45]\n",
      " [ 15 104  95 130 111  48 119  66  59  52 124 103]\n",
      " [ 50   6 106  46  56  77  58  61  35 113  88  98]\n",
      " [ 41  92  90  25  62  89 107  81  69  80 116  22]\n",
      " [ 23 127 133  55  65  78  38   4  43   2  97   3]\n",
      " [112 138  47  44  21 123   0 132 115  60  93   1]\n",
      " [ 68  14  30 109  26  63  57 129  86  74  73  18]\n",
      " [ 29  34  42  87 100 110  11  70 126  16  37  28]\n",
      " [117  27  20 139  13 125 105 120 137  32 142  53]\n",
      " [ 67  72  33  76  75 134 118  10  36 140 108 136]\n",
      " [131  71 114  19  49   9  24  51   8  83  79  17]] Result\n",
      "\n",
      "[[  7  45 103  98  22   3   1  18  28  53 136  17]\n",
      " [141 102 124  88 116  97  93  73  37 142 108  79]\n",
      " [ 96  54  52 113  80   2  60  74  16  32 140  83]\n",
      " [143  40  59  35  69  43 115  86 126 137  36   8]\n",
      " [ 12 101  66  61  81   4 132 129  70 120  10  51]\n",
      " [ 64  31 119  58 107  38   0  57  11 105 118  24]\n",
      " [122 135  48  77  89  78 123  63 110 125 134   9]\n",
      " [ 94 121 111  56  62  65  21  26 100  13  75  49]\n",
      " [ 82 128 130  46  25  55  44 109  87 139  76  19]\n",
      " [ 85  91  95 106  90 133  47  30  42  20  33 114]\n",
      " [ 99  39 104   6  92 127 138  14  34  27  72  71]\n",
      " [  5  84  15  50  41  23 112  68  29 117  67 131]] Truth\n"
     ]
    }
   ],
   "source": [
    "# Training loop\n",
    "num_epochs = 40000\n",
    "print_mod = int(num_epochs/10.)\n",
    "initial_temperature = num_epochs / 2.\n",
    "final_temperature = 0.01\n",
    "\n",
    "best_loss = float('inf')\n",
    "best_state = None\n",
    "\n",
    "all_params = list(model.parameters())\n",
    "num_params = len(all_params)\n",
    "\n",
    "for epoch in range(num_epochs):\n",
    "    \n",
    "    temperature = initial_temperature - (epoch / num_epochs) * (initial_temperature - final_temperature)\n",
    "    optimizer.zero_grad()\n",
    "    probabilities = model()\n",
    "    loss = facility_layout_loss(probabilities, adjacency_matrix, distance_matrix)\n",
    "    \n",
    "    # Simulated Annealing: Accept worse solutions with a probability based on temperature\n",
    "    if torch.rand(1).item() < torch.exp(torch.tensor(-(loss.item() - best_loss) / temperature)):\n",
    "        best_loss = loss.item()\n",
    "        best_state = model.state_dict()\n",
    "        \n",
    "    loss.backward()\n",
    "    \n",
    "    # add some noise\n",
    "    for param in model.parameters():\n",
    "        random_indices = random.sample(range(num_params), num_params // 3)\n",
    "        param.grad[random_indices] += torch.randn_like(param.grad[random_indices]) * 1e-04 * np.log(temperature+1)\n",
    "    \n",
    "    optimizer.step()\n",
    "    \n",
    "    if (epoch + 1) % print_mod == 0:\n",
    "        s1 = f\"Epoch {epoch + 1 : 6d}/{num_epochs : 6d}\"\n",
    "        s2 = f\"Loss: {loss.item() : 10.4f}\"\n",
    "        s3 = f\"Best Loss: {best_loss: 10.4f}\"\n",
    "        s4 = f\"T° {temperature: 10.2f}\"\n",
    "        print(f\"{s1} | {s2}, {s3}, {s4}\")\n",
    "        \n",
    "# Final facility-to-location assignments\n",
    "model.load_state_dict(best_state)  # Load the best state\n",
    "final_probabilities = model().detach()\n",
    "assignments = torch.argmax(final_probabilities, dim=1)\n",
    "\n",
    "assign = assignments.detach().tolist()\n",
    "assign = list(a for a in zip(list(range(len(assign))), assign))\n",
    "assign.sort(key=lambda x: x[1])\n",
    "\n",
    "trained_order = [a[0] for a in assign]\n",
    "oAM = DS.getAM(trained_order)\n",
    "_ = draw_adjacency_matrix(oAM, title=f'Trained order adjacency matrix')\n",
    "\n",
    "print (\"\")\n",
    "print (np.array([a[0] for a in assign]).reshape((N,N)), 'Result')\n",
    "print (\"\")\n",
    "print (M, 'Truth')"
   ]
  },
  {
   "cell_type": "raw",
   "id": "889c5d55",
   "metadata": {},
   "source": [
    "This works like a charm"
   ]
  },
  {
   "cell_type": "markdown",
   "id": "ed4debef",
   "metadata": {},
   "source": [
    "### \"O\" Layout - parts missing"
   ]
  },
  {
   "cell_type": "code",
   "execution_count": null,
   "id": "83fb5076",
   "metadata": {},
   "outputs": [],
   "source": [
    "importlib.reload(sys.modules['functions.dataset'])\n",
    "from functions.dataset import *"
   ]
  },
  {
   "cell_type": "code",
   "execution_count": 192,
   "id": "872cc84e",
   "metadata": {},
   "outputs": [
    {
     "name": "stdout",
     "output_type": "stream",
     "text": [
      "[[ 40 125  14 116  47 110  88  17 105  16   5  90]\n",
      " [ 79  85  64  34  75  13 132 104 133  72 141  30]\n",
      " [ 76  70  99 117  38 123 107 139  25  48  33 111]\n",
      " [ 24  63   1  27  22 142  57  80 130  71 137 120]\n",
      " [ 44   9 136  95  52 134 124  18  54 100  81  59]\n",
      " [ 83  92  62 131 122 118  50   7  28 129 115  67]\n",
      " [101  91  68 112 106  36  65  23  49  86 103  32]\n",
      " [128  19  98  73  10  53 143  82  94 135  55   6]\n",
      " [ 41  89 113  97 119  11 126  20  56  42   2  61]\n",
      " [114 109  46   8  37  45   4 127   3  35  12  58]\n",
      " [ 66  43  77  69 138  51  15 102  84  26 121  29]\n",
      " [ 60  39 108  21  78  31   0  93  96 140  87  74]]\n",
      "Name    : O-data\n",
      "Groups  : 100\n",
      "Edges   : 1092\n",
      "Nodes   : 144\n",
      "\n"
     ]
    },
    {
     "data": {
      "image/png": "[encoded data removed]",
      "text/plain": [
       "<Figure size 400x400 with 1 Axes>"
      ]
     },
     "metadata": {},
     "output_type": "display_data"
    },
    {
     "name": "stdout",
     "output_type": "stream",
     "text": [
      "0\n"
     ]
    }
   ],
   "source": [
    "########## Define problem data\n",
    "#.         M = optimal layout (hidden)\n",
    "#.         natural_order = list(range(len(M)))\n",
    "#.         AM = Adjacency matrix (Facility x Facility, shape M x M)\n",
    "#.         D = Distances between locations (Location x Location, shape M x M)\n",
    "\n",
    "N = 12\n",
    "M = np.arange(N**2)\n",
    "np.random.shuffle(M)\n",
    "M = M.reshape((N,N))\n",
    "print (M)\n",
    "\n",
    "m = np.ones(M.shape).astype(bool)\n",
    "m[4:8,4:8] = 0\n",
    "\n",
    "kernel = 3\n",
    "groups = [M[i:i+kernel,ii:ii+kernel][m[i:i+kernel,ii:ii+kernel]].ravel().tolist() \n",
    "            for i in range(M.shape[0]-kernel+1)\n",
    "            for ii in range(M.shape[1]-kernel+1)]\n",
    "\n",
    "\"\"\"\n",
    "kernel = 2\n",
    "groups2 = [M[i:i+kernel,ii:ii+kernel][~m[i:i+kernel,ii:ii+kernel]].ravel().tolist() \n",
    "            for i in range(M.shape[0]-kernel+1)\n",
    "            for ii in range(M.shape[1]-kernel+1)]\n",
    "\n",
    "groups = groups1 + groups2\n",
    "\"\"\"\n",
    "\n",
    "random.shuffle(groups)\n",
    "\n",
    "DS = DataSet(\"O-data\", groups)\n",
    "\n",
    "natural_order = list(range(N**2))\n",
    "order = natural_order\n",
    "\n",
    "voids = list(set(natural_order)-set(DS.nodes))\n",
    "DS.nodes += voids\n",
    "random.shuffle(DS.nodes)\n",
    "DS._adjacencyTable()\n",
    "\n",
    "print (DS)\n",
    "AM = DS.getAM(order)\n",
    "\n",
    "\"\"\"\n",
    "for idx in voids:\n",
    "    AM[voids,idx] += 0.1\n",
    "    AM[idx,voids] += 0.1\n",
    "\"\"\"\n",
    "_ = draw_adjacency_matrix(AM, title=f'Input adjacency matrix')\n",
    "\n",
    "coords = np.argwhere(M>=0)[order]\n",
    "D = np.zeros((N**2,N**2)).astype(float)\n",
    "#Z = (~m*100).astype(int).ravel() # Z introduces a second \"level\" -> known shape\n",
    "for i in range(N**2):\n",
    "    dx = coords[i,0] - coords[:,0]\n",
    "    dy = coords[i,1] - coords[:,1]\n",
    "    # dz = Z[i] - Z[:]\n",
    "    D[i] = np.sqrt((dx**2) + (dy**2))\n",
    "\n",
    "print (Z[0])"
   ]
  },
  {
   "cell_type": "code",
   "execution_count": 193,
   "id": "8a372ca6",
   "metadata": {},
   "outputs": [
    {
     "data": {
      "image/png": "[encoded data removed]",
      "text/plain": [
       "<Figure size 400x400 with 1 Axes>"
      ]
     },
     "metadata": {},
     "output_type": "display_data"
    },
    {
     "name": "stdout",
     "output_type": "stream",
     "text": [
      "tensor(4087.5964)\n"
     ]
    }
   ],
   "source": [
    "grid_order = M.ravel().tolist()\n",
    "wished = DS.getAM(grid_order)\n",
    "probabilities = torch.zeros(AM.shape, dtype=torch.float32)\n",
    "probabilities[grid_order, list(range(len(grid_order)))] = 1.\n",
    "\n",
    "_ = draw_adjacency_matrix(wished, title=f'Wished order adjacency matrix')\n",
    "\n",
    "adjacency_matrix = torch.tensor(AM, dtype=torch.float32) # Adjacency matrix (interaction weights)\n",
    "distance_matrix = torch.tensor(D, dtype=torch.float32) # Distance matrix (Euclidean distances between locations)\n",
    "loss = facility_layout_loss(probabilities, adjacency_matrix, distance_matrix)\n",
    "print (loss)\n"
   ]
  },
  {
   "cell_type": "code",
   "execution_count": 205,
   "id": "d0894bdf",
   "metadata": {},
   "outputs": [],
   "source": [
    "########## Model definition\n",
    "\n",
    "adjacency_matrix = torch.tensor(AM, dtype=torch.float32) # Adjacency matrix (interaction weights)\n",
    "distance_matrix = torch.tensor(D, dtype=torch.float32) # Distance matrix (Euclidean distances between locations)\n",
    "L = adjacency_matrix.shape[0] # Number of facilities and locations\n",
    "\n",
    "########## Initialize\n",
    "\n",
    "model = FacilityLayoutNet(L, L)\n",
    "optimizer = optim.RMSprop(model.parameters(), lr=1e-04, alpha=0.99, momentum=0.9)"
   ]
  },
  {
   "cell_type": "code",
   "execution_count": 206,
   "id": "d82f5a81",
   "metadata": {},
   "outputs": [
    {
     "name": "stdout",
     "output_type": "stream",
     "text": [
      "Epoch   5000/ 50000 | Loss:  4861.0342, Best Loss:  4861.0342, T°   22500.50\n",
      "Epoch  10000/ 50000 | Loss:  4316.9194, Best Loss:  4316.9194, T°   20000.50\n",
      "Epoch  15000/ 50000 | Loss:  4307.0986, Best Loss:  4307.0986, T°   17500.50\n",
      "Epoch  20000/ 50000 | Loss:  4306.2046, Best Loss:  4306.2046, T°   15000.50\n",
      "Epoch  25000/ 50000 | Loss:  4305.4058, Best Loss:  4305.4058, T°   12500.50\n",
      "Epoch  30000/ 50000 | Loss:  4305.1367, Best Loss:  4305.1367, T°   10000.50\n",
      "Epoch  35000/ 50000 | Loss:  4305.0298, Best Loss:  4305.0298, T°    7500.50\n",
      "Epoch  40000/ 50000 | Loss:  4304.9751, Best Loss:  4304.9751, T°    5000.50\n",
      "Epoch  45000/ 50000 | Loss:  4304.9634, Best Loss:  4304.9634, T°    2500.50\n",
      "Epoch  50000/ 50000 | Loss:  4304.9644, Best Loss:  4304.9644, T°       0.50\n"
     ]
    },
    {
     "data": {
      "image/png": "[encoded data removed]",
      "text/plain": [
       "<Figure size 400x400 with 1 Axes>"
      ]
     },
     "metadata": {},
     "output_type": "display_data"
    },
    {
     "name": "stdout",
     "output_type": "stream",
     "text": [
      "\n",
      "[[ 90  30 141   5  16 105  17 118 134  23  36  10]\n",
      " [ 52  65 124 120 111  33  72 133 104  88 110 116]\n",
      " [106  67  59 137  71  48  25 139 132  13  47  14]\n",
      " [ 40   6  32 115  81 100 130  80 107  75  34  64]\n",
      " [125  61  55 103  86 129  54  57 123  38 117  99]\n",
      " [ 85  58   2 135  94  49  28 142  22  27   1  70]\n",
      " [ 79  29  12  42  56  20 126 112 131  95 136  63]\n",
      " [ 76 121  35   3 127   4  11  73  68  62  92   9]\n",
      " [ 24  87  26  84 102  45 119  97  98  19  91  83]\n",
      " [ 44  74 140  93  15  51   8  37  46 113  89 128]\n",
      " [101  96   0  31 138  69  77 109 114  41 122   7]\n",
      " [ 18  50  53  82 143  78  21 108  39  43  66  60]] Result\n",
      "\n",
      "[[ 40 125  14 116  47 110  88  17 105  16   5  90]\n",
      " [ 79  85  64  34  75  13 132 104 133  72 141  30]\n",
      " [ 76  70  99 117  38 123 107 139  25  48  33 111]\n",
      " [ 24  63   1  27  22 142  57  80 130  71 137 120]\n",
      " [ 44   9 136  95  52 134 124  18  54 100  81  59]\n",
      " [ 83  92  62 131 122 118  50   7  28 129 115  67]\n",
      " [101  91  68 112 106  36  65  23  49  86 103  32]\n",
      " [128  19  98  73  10  53 143  82  94 135  55   6]\n",
      " [ 41  89 113  97 119  11 126  20  56  42   2  61]\n",
      " [114 109  46   8  37  45   4 127   3  35  12  58]\n",
      " [ 66  43  77  69 138  51  15 102  84  26 121  29]\n",
      " [ 60  39 108  21  78  31   0  93  96 140  87  74]] Truth\n"
     ]
    }
   ],
   "source": [
    "# Training loop\n",
    "num_epochs = 50000\n",
    "print_mod = int(num_epochs/10.)\n",
    "initial_temperature = num_epochs / 2.\n",
    "final_temperature = 0.001\n",
    "\n",
    "best_loss = float('inf')\n",
    "best_state = None\n",
    "\n",
    "all_params = list(model.parameters())\n",
    "num_params = len(all_params)\n",
    "\n",
    "for epoch in range(num_epochs):\n",
    "    \n",
    "    temperature = initial_temperature - (epoch / num_epochs) * (initial_temperature - final_temperature)\n",
    "    optimizer.zero_grad()\n",
    "    probabilities = model()\n",
    "    loss = facility_layout_loss(probabilities, adjacency_matrix, distance_matrix)\n",
    "    \n",
    "    # Simulated Annealing: Accept worse solutions with a probability based on temperature\n",
    "    if torch.rand(1).item() < torch.exp(torch.tensor(-(loss.item() - best_loss) / temperature)):\n",
    "        best_loss = loss.item()\n",
    "        best_state = model.state_dict()\n",
    "        \n",
    "    loss.backward()\n",
    "    \n",
    "    # add some noise\n",
    "    for param in model.parameters():\n",
    "        random_indices = random.sample(range(num_params), num_params)\n",
    "        param.grad[random_indices] += torch.randn_like(param.grad[random_indices]) * 1e-03 * np.log(temperature+1)\n",
    "    \n",
    "    optimizer.step()\n",
    "    \n",
    "    if (epoch + 1) % print_mod == 0:\n",
    "        s1 = f\"Epoch {epoch + 1 : 6d}/{num_epochs : 6d}\"\n",
    "        s2 = f\"Loss: {loss.item() : 10.4f}\"\n",
    "        s3 = f\"Best Loss: {best_loss: 10.4f}\"\n",
    "        s4 = f\"T° {temperature: 10.2f}\"\n",
    "        print(f\"{s1} | {s2}, {s3}, {s4}\")\n",
    "\n",
    "# Final facility-to-location assignments\n",
    "model.load_state_dict(best_state)  # Load the best state\n",
    "final_probabilities = model().detach()\n",
    "assignments = torch.argmax(final_probabilities, dim=1)\n",
    "\n",
    "assign = assignments.detach().tolist()\n",
    "assign = list(a for a in zip(list(range(len(assign))), assign))\n",
    "assign.sort(key=lambda x: x[1])\n",
    "\n",
    "trained_order = [a[0] for a in assign]\n",
    "oAM = DS.getAM(trained_order)\n",
    "_ = draw_adjacency_matrix(oAM, title=f'Trained order adjacency matrix')\n",
    "\n",
    "print (\"\")\n",
    "print (np.array([a[0] for a in assign]).reshape((N,N)), 'Result')\n",
    "print (\"\")\n",
    "print (M, 'Truth')"
   ]
  },
  {
   "cell_type": "code",
   "execution_count": null,
   "id": "7497486a",
   "metadata": {},
   "outputs": [],
   "source": []
  },
  {
   "cell_type": "code",
   "execution_count": null,
   "id": "ae905464",
   "metadata": {},
   "outputs": [],
   "source": []
  }
 ],
 "metadata": {
  "kernelspec": {
   "display_name": "TensorFlow",
   "language": "python",
   "name": "tensorflow"
  },
  "language_info": {
   "codemirror_mode": {
    "name": "ipython",
    "version": 3
   },
   "file_extension": ".py",
   "mimetype": "text/x-python",
   "name": "python",
   "nbconvert_exporter": "python",
   "pygments_lexer": "ipython3",
   "version": "3.9.6"
  }
 },
 "nbformat": 4,
 "nbformat_minor": 5
}
